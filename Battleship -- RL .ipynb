{
 "cells": [
  {
   "cell_type": "markdown",
   "metadata": {},
   "source": [
    "## TensorFlow Reinforcement Learning -- Battleship\n",
    "##### JSL September 2016"
   ]
  },
  {
   "cell_type": "code",
   "execution_count": 1,
   "metadata": {
    "collapsed": true
   },
   "outputs": [],
   "source": [
    "# 1.1 Import tensorflow and other libraries.\n",
    "import tensorflow as tf\n",
    "import numpy as np\n",
    "%matplotlib inline\n",
    "import pylab"
   ]
  },
  {
   "cell_type": "code",
   "execution_count": 2,
   "metadata": {
    "collapsed": false
   },
   "outputs": [],
   "source": [
    "# 1.2 Define the nn variable network.\n",
    "# Input is array of BOARD_SIZE values.\n",
    "# ---------------------------------------\n",
    "#  -1 value -> Not yet checked\n",
    "#   0 value -> Checked, no ship\n",
    "#   1 value -> Checked, is ship location.\n",
    "# ---------------------------------------\n",
    "BOARD_SIZE = 10\n",
    "SHIP_SIZE = 3\n",
    "\n",
    "hidden_units = BOARD_SIZE\n",
    "output_units = BOARD_SIZE\n",
    "\n",
    "input_positions = tf.placeholder(tf.float32, shape=(1, BOARD_SIZE))\n",
    "labels =          tf.placeholder(tf.int64)\n",
    "learning_rate =   tf.placeholder(tf.float32, shape=[])\n",
    "# Generate hidden layer\n",
    "W1 = tf.Variable(tf.truncated_normal([BOARD_SIZE, hidden_units],\n",
    "             stddev=0.1 / np.sqrt(float(BOARD_SIZE))))\n",
    "b1 = tf.Variable(tf.zeros([1, hidden_units]))\n",
    "h1 = tf.tanh(tf.matmul(input_positions, W1) + b1)\n",
    "# Second layer -- linear classifier for action logits\n",
    "W2 = tf.Variable(tf.truncated_normal([hidden_units, output_units],\n",
    "             stddev=0.1 / np.sqrt(float(hidden_units))))\n",
    "b2 = tf.Variable(tf.zeros([1, output_units]))\n",
    "logits = tf.matmul(h1, W2) + b2 \n",
    "probabilities = tf.nn.softmax(logits) "
   ]
  },
  {
   "cell_type": "code",
   "execution_count": 3,
   "metadata": {
    "collapsed": false,
    "scrolled": false
   },
   "outputs": [],
   "source": [
    "# 1.3 Define the operations we will use\n",
    "init = tf.initialize_all_variables()\n",
    "cross_entropy = tf.nn.sparse_softmax_cross_entropy_with_logits(\n",
    "        logits=logits, labels=labels,name='None')\n",
    "train_step = tf.train.GradientDescentOptimizer(\n",
    "    learning_rate=learning_rate).minimize(cross_entropy)\n",
    "# Start TF session\n",
    "sess = tf.Session()\n",
    "sess.run(init)"
   ]
  },
  {
   "cell_type": "code",
   "execution_count": 16,
   "metadata": {
    "collapsed": false,
    "scrolled": false
   },
   "outputs": [
    {
     "data": {
      "text/plain": [
       "([[[-1, -1, -1, -1, -1, -1, -1, -1, -1, -1]],\n",
       "  [[-1, -1, 0, -1, -1, -1, -1, -1, -1, -1]],\n",
       "  [[-1, -1, 0, -1, -1, 0, -1, -1, -1, -1]],\n",
       "  [[-1, -1, 0, -1, -1, 0, 1, -1, -1, -1]],\n",
       "  [[-1, -1, 0, -1, -1, 0, 1, 1, -1, -1]]],\n",
       " [2, 5, 6, 7, 8],\n",
       " [0, 0, 1, 1, 1])"
      ]
     },
     "execution_count": 16,
     "metadata": {},
     "output_type": "execute_result"
    }
   ],
   "source": [
    "# 1.4 Game play definition.\n",
    "TRAINING = True\n",
    "def play_game(training=TRAINING):\n",
    "    \"\"\" Play game of battleship using network.\"\"\"\n",
    "    # Select random location for ship\n",
    "    ship_left = np.random.randint(BOARD_SIZE - SHIP_SIZE + 1)\n",
    "    ship_positions = set(range(ship_left, ship_left + SHIP_SIZE))\n",
    "    # Initialize logs for game\n",
    "    board_position_log = []\n",
    "    action_log = []\n",
    "    hit_log = []\n",
    "    # Play through game\n",
    "    current_board = [[-1 for i in range(BOARD_SIZE)]]\n",
    "    while (sum(hit_log) < SHIP_SIZE) and (len(action_log) < BOARD_SIZE):\n",
    "        board_position_log.append([[i for i in current_board[0]]])\n",
    "        probs = sess.run([probabilities], feed_dict={input_positions:current_board})[0][0]\n",
    "        probs = [p * (index not in action_log) for index, p in enumerate(probs)]\n",
    "        probs = [p / sum(probs) for p in probs]\n",
    "        if training == True:\n",
    "            bomb_index = np.random.choice(BOARD_SIZE, p=probs)            \n",
    "        else:\n",
    "            bomb_index = np.argmax(probs)\n",
    "        # update board, logs\n",
    "        hit_log.append(1 * (bomb_index in ship_positions))\n",
    "        current_board[0][bomb_index] = 1 * (bomb_index in ship_positions)\n",
    "        action_log.append(bomb_index)\n",
    "    return board_position_log, action_log, hit_log\n",
    "# Example:\n",
    "play_game()"
   ]
  },
  {
   "cell_type": "code",
   "execution_count": 11,
   "metadata": {
    "collapsed": false
   },
   "outputs": [
    {
     "data": {
      "text/plain": [
       "[-0.16904761904761903,\n",
       " 0.2619047619047619,\n",
       " 1.1904761904761905,\n",
       " 1.130952380952381,\n",
       " 0.8333333333333334]"
      ]
     },
     "execution_count": 11,
     "metadata": {},
     "output_type": "execute_result"
    }
   ],
   "source": [
    "# 1.5 Reward function definition\n",
    "def rewards_calculator(hit_log, gamma=0.5):\n",
    "    \"\"\" Discounted sum of future hits over trajectory\"\"\"            \n",
    "    hit_log_weighted = [(item -  \n",
    "                         float(SHIP_SIZE - sum(hit_log[:index])) / float(BOARD_SIZE - index)) * (\n",
    "            gamma ** index) for index, item in enumerate(hit_log)]\n",
    "    return [((gamma) ** (-i)) * sum(hit_log_weighted[i:]) for i in range(len(hit_log))]\n",
    "\n",
    "# Example\n",
    "rewards_calculator([0,0,1,1,1])"
   ]
  },
  {
   "cell_type": "code",
   "execution_count": 18,
   "metadata": {
    "collapsed": false,
    "scrolled": true
   },
   "outputs": [],
   "source": [
    "# 1.6 Training loop: Play and learn\n",
    "game_lengths = []\n",
    "TRAINING = True   # Boolean specifies training mode\n",
    "ALPHA = 0.06      # step size\n",
    "\n",
    "for game in range(10000):\n",
    "    board_position_log, action_log, hit_log = play_game(training=TRAINING)\n",
    "    game_lengths.append(len(action_log))\n",
    "    rewards_log = rewards_calculator(hit_log)\n",
    "    for reward, current_board, action in zip(rewards_log, board_position_log, action_log):\n",
    "        # Take step along gradient\n",
    "        if TRAINING:\n",
    "            sess.run([train_step], \n",
    "                feed_dict={input_positions:current_board, labels:[action], learning_rate:ALPHA * reward})"
   ]
  },
  {
   "cell_type": "code",
   "execution_count": 17,
   "metadata": {
    "collapsed": false
   },
   "outputs": [
    {
     "data": {
      "text/plain": [
       "[<matplotlib.lines.Line2D at 0x10cb806d0>]"
      ]
     },
     "execution_count": 17,
     "metadata": {},
     "output_type": "execute_result"
    },
    {
     "data": {
      "image/png": "[encoded data removed]",
      "text/plain": [
       "<matplotlib.figure.Figure at 0x10c668f10>"
      ]
     },
     "metadata": {},
     "output_type": "display_data"
    }
   ],
   "source": [
    "# 1.7 Plot running average game lengths\n",
    "window_size = 500\n",
    "running_average_length = [np.mean(game_lengths[i:i+window_size]) for i in range(len(game_lengths)- window_size)]\n",
    "pylab.plot(running_average_length)"
   ]
  },
  {
   "cell_type": "code",
   "execution_count": 26,
   "metadata": {
    "collapsed": false
   },
   "outputs": [
    {
     "data": {
      "text/plain": [
       "[array([[ 0.36417413,  0.21842285, -1.05438769,  0.92670012, -0.971443  ,\n",
       "         -0.42181543, -0.12549876, -0.1459792 ,  1.37149823,  0.88486165],\n",
       "        [ 0.40269327, -2.3138361 , -1.52807772, -1.89444983,  1.6621691 ,\n",
       "          1.21897411, -0.59128791,  0.32018194,  0.12851822, -1.5733639 ],\n",
       "        [ 0.75337362,  1.18250155,  1.49976432,  2.45021749, -2.0455699 ,\n",
       "         -1.00975513, -3.52385998, -2.81726122, -1.13073385,  0.09371365],\n",
       "        [-2.73572493, -2.58016634, -2.54336786,  0.78801006, -1.01746631,\n",
       "          0.83182812, -0.28737754,  0.25912744, -0.71347362,  5.37003899],\n",
       "        [-0.85589498,  1.38819838,  3.10451198, -3.52761793, -2.22771525,\n",
       "         -0.35671455,  2.07410955, -1.88416684, -1.69944739, -0.94166577],\n",
       "        [ 1.26362193, -1.74665356, -0.12891544,  0.56791085,  2.06429219,\n",
       "         -1.82320964, -1.02321613,  2.33585477,  0.26630208, -0.07931795],\n",
       "        [-0.70836729,  1.72130585, -2.96304846, -0.78141487, -3.5275557 ,\n",
       "          1.48491037,  0.20496099, -2.35341787,  0.51234746, -0.44399992],\n",
       "        [-3.01618671, -2.97795844,  1.63824856,  2.3610189 , -1.56688738,\n",
       "         -3.25071836,  0.62363726,  0.54381591,  0.38046595, -2.24974942],\n",
       "        [-0.28313148,  1.94622719, -1.26995134,  0.29591283,  2.50572872,\n",
       "         -0.94764274,  0.5393216 , -1.34083796, -3.52424574,  0.24192466],\n",
       "        [ 0.41004246, -0.53354394,  1.02343953, -0.28061312, -0.14645265,\n",
       "          0.08760639, -0.39470139,  1.62556291,  0.77635783,  0.37842411]], dtype=float32)]"
      ]
     },
     "execution_count": 26,
     "metadata": {},
     "output_type": "execute_result"
    }
   ],
   "source": [
    "# 1.8 Example showing how to print current coefficient values\n",
    "sess.run([W1], \n",
    "             feed_dict={input_positions:board_position_log[0]})"
   ]
  },
  {
   "cell_type": "code",
   "execution_count": null,
   "metadata": {
    "collapsed": true
   },
   "outputs": [],
   "source": []
  }
 ],
 "metadata": {
  "kernelspec": {
   "display_name": "Python 2",
   "language": "python",
   "name": "python2"
  },
  "language_info": {
   "codemirror_mode": {
    "name": "ipython",
    "version": 2
   },
   "file_extension": ".py",
   "mimetype": "text/x-python",
   "name": "python",
   "nbconvert_exporter": "python",
   "pygments_lexer": "ipython2",
   "version": "2.7.10"
  }
 },
 "nbformat": 4,
 "nbformat_minor": 1
}
